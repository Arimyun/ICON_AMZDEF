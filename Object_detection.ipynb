{
 "cells": [
  {
   "cell_type": "markdown",
   "id": "c7c9970a",
   "metadata": {},
   "source": [
    "# SAL method"
   ]
  },
  {
   "cell_type": "code",
   "execution_count": 3,
   "id": "5d82b415",
   "metadata": {
    "vscode": {
     "languageId": "python"
    }
   },
   "outputs": [],
   "source": [
    "from getpass import getuser # Libaray to copy things\n",
    "from pathlib import Path # Object oriented libary to deal with paths\n",
    "from tempfile import NamedTemporaryFile, TemporaryDirectory # Creating temporary Files/Dirs\n",
    "from dask.utils import format_bytes\n",
    "from distributed import Client, progress, wait # Libaray to orchestrate distributed resources\n",
    "#from dask_jobqueue import SLURMCluster # Setting up distributed memories via slurm\n",
    "import numpy as np # Pythons standard array library\n",
    "import xarray as xr # Libary to work with labeled n-dimensional data\n",
    "import dask # Distributed data libary\n",
    "import dask.distributed\n",
    "import multiprocessing\n",
    "from subprocess import run, PIPE\n",
    "import warnings\n",
    "warnings.filterwarnings(action='ignore')\n",
    "import pandas as pd\n",
    "dask.config.config.get('distributed').get('dashboard').update({'link':'{JUPYTERHUB_SERVICE_PREFIX}/proxy/{port}/status'})"
   ]
  },
  {
   "cell_type": "code",
   "execution_count": 4,
   "id": "8d231ef0",
   "metadata": {
    "vscode": {
     "languageId": "python"
    }
   },
   "outputs": [],
   "source": [
    "from scipy import stats"
   ]
  },
  {
   "cell_type": "code",
   "execution_count": 5,
   "id": "6c4cbc5f",
   "metadata": {
    "vscode": {
     "languageId": "python"
    }
   },
   "outputs": [],
   "source": [
    "from scipy.ndimage import measurements\n",
    "from scipy import ndimage\n",
    "from matplotlib.ticker import (MultipleLocator, FormatStrFormatter, AutoMinorLocator)\n",
    "from matplotlib import pyplot as plt # Standard Plotting library\n",
    "from matplotlib import cm\n",
    "from matplotlib.colors import ListedColormap, LinearSegmentedColormap\n",
    "from cartopy.mpl.ticker import LongitudeFormatter, LatitudeFormatter"
   ]
  },
  {
   "cell_type": "code",
   "execution_count": null,
   "id": "ee09d3b7",
   "metadata": {
    "vscode": {
     "languageId": "python"
    }
   },
   "outputs": [],
   "source": [
    "ncpu = multiprocessing.cpu_count()\n",
    "processes = False\n",
    "nworker = 1\n",
    "threads = ncpu // nworker\n",
    "print(f\"Number of CPUs: {ncpu}, number of threads: {threads}, number of workers: {nworker}, processes: {processes}\")\n",
    "client = Client(processes=processes,\n",
    "               threads_per_worker=threads,\n",
    "               n_workers=nworker,\n",
    "               memory_limit=\"64GB\"\n",
    "               )\n",
    "client"
   ]
  },
  {
   "cell_type": "markdown",
   "id": "158630dc",
   "metadata": {},
   "source": [
    "**List files of interpolated data**"
   ]
  },
  {
   "cell_type": "code",
   "execution_count": 18,
   "id": "64c84da5",
   "metadata": {
    "vscode": {
     "languageId": "python"
    }
   },
   "outputs": [],
   "source": [
    "#Define a global pattern to find the files\n",
    "###cloud liquid water \n",
    "glob_pattern_3d1 = 'test_daily_pr_'\n",
    "## Define the paths of file 1 (dppp0016)\n",
    "data_path1 = Path('/scratch/m/m300948/test_04/pr')\n",
    "## Collect all file names with pathlib's rglob and list compression  -- cloud liquid water \n",
    "file_icon_pp = sorted([str(f) for f in data_path1.rglob(f'*{glob_pattern_3d1}*.nc')])[:]"
   ]
  },
  {
   "cell_type": "markdown",
   "id": "8e03f1cf",
   "metadata": {},
   "source": [
    "**List files of IMERG**"
   ]
  },
  {
   "cell_type": "code",
   "execution_count": 8,
   "id": "84b44760",
   "metadata": {
    "vscode": {
     "languageId": "python"
    }
   },
   "outputs": [],
   "source": [
    "#Define a global pattern to find the files\n",
    "###cloud liquid water \n",
    "glob_pattern_3d1 = 'IMERG_precipitationrate_V06B_daily_0.1degree_tropics_30S_30N_'\n",
    "## Define the paths of file 1 (dppp0016)\n",
    "data_path1 = Path('/work/mh0731/from_Mistral/mh0731/m300876/precip_paper/data/obs/IMERG')\n",
    "## Collect all file names with pathlib's rglob and list compression  -- cloud liquid water \n",
    "file_imerg = sorted([str(f) for f in data_path1.rglob(f'*{glob_pattern_3d1}*.nc')])[:]"
   ]
  },
  {
   "cell_type": "markdown",
   "id": "bcf4d829",
   "metadata": {},
   "source": [
    "_calculate land_sea mask_"
   ]
  },
  {
   "cell_type": "code",
   "execution_count": 9,
   "id": "7621b64c",
   "metadata": {
    "vscode": {
     "languageId": "python"
    }
   },
   "outputs": [],
   "source": [
    "def mask_cal(dset):\n",
    "    ##This function calculate the land_sea mask according to the resolution of the data##\n",
    "    ###negative values is ocean, positive values is land\n",
    "    filemask = '/work/mh0731/from_Mistral/mh0731/m300876/land_sea_mask/GPM_IMERG_LandSeaMask.2.nc4'\n",
    "    dsetmask = xr.open_dataset(filemask)\n",
    "    lsmask01 = dsetmask.landseamask.where(\n",
    "        dsetmask.landseamask<100).interp(lon=dset.lon.values,lat=dset.lat.values,method='linear') *0 +2\n",
    "    lsmask01 = lsmask01.where(lsmask01==2,-2)\n",
    "    return lsmask01"
   ]
  },
  {
   "cell_type": "markdown",
   "id": "143a71d1",
   "metadata": {},
   "source": [
    "_calculate time mean data_"
   ]
  },
  {
   "cell_type": "code",
   "execution_count": 10,
   "id": "4e76daf9",
   "metadata": {
    "vscode": {
     "languageId": "python"
    }
   },
   "outputs": [],
   "source": [
    "def time_mean_model(file,times,var,lat,lon,environ):\n",
    "    ##Funtion to calculate the monthly mean of precipitation from the model\n",
    "    ###the environ option mask the values over land or ocean:\n",
    "        ## if environ = 'trop' -> no mask is used\n",
    "        ## if environ = 'ocean' -> return only values over ocean\n",
    "        ## if environ = 'land' -> return only values over land\n",
    "    dset = xr.open_mfdataset(file, engine='netcdf4', combine='by_coords',chunks=({'time':20})).sel(\n",
    "        time=slice(times[0],times[1]))\n",
    "    if environ is 'trop':\n",
    "        pr=dset[var].sel(\n",
    "            time=slice(times[0],times[1])).sel(\n",
    "            lat=slice(lt[0],lat[1]),lon=slice(lon[0],lon[1])).resample(time='1MS').mean(dim=('time'),skipna=True)\n",
    "    else:\n",
    "        lsmask01 = mask_cal(dset)\n",
    "        if environ is 'ocean':\n",
    "            pr=dset[var].where(lsmask01<0).sel(lat=slice(lat[0],lat[1]),lon=slice(lon[0],lon[1])).resample(\n",
    "                time='1MS').mean(dim=('time'),skipna=True)\n",
    "        elif environ is 'land':\n",
    "            pr=dset[var].where(lsmask01>0).sel(lat=slice(lat[0],lat[1]),lon=slice(lon[0],lon[1])).resample(\n",
    "                time='1MS').mean(dim=('time'),skipna=True)\n",
    "        else:\n",
    "            return print('no correct environment')\n",
    "    jobs = dask.persist(pr)\n",
    "    varf = dask.compute(pr)[0]\n",
    "    pr_mon = varf.groupby('time.month').mean()\n",
    "    return pr_mon*3600*24"
   ]
  },
  {
   "cell_type": "code",
   "execution_count": 11,
   "id": "75ac93a3",
   "metadata": {
    "vscode": {
     "languageId": "python"
    }
   },
   "outputs": [],
   "source": [
    "def time_mean_imerg_multi(file,lon,lat,environ):\n",
    "    ##Funtion to calculate the climatology monthly mean of precipitation from IMERG\n",
    "    ###the environ option mask the values over land or ocean:\n",
    "        ## if environ = 'trop' -> no mask is used\n",
    "        ## if environ = 'ocean' -> return only values over ocean\n",
    "        ## if environ = 'land' -> return only values over land\n",
    "    data = xr.open_mfdataset(\n",
    "        file, combine='by_coords',engine='netcdf4',chunks=({'time':20}))['calibrated_precipitation']\n",
    "    if environ is 'trop':\n",
    "        pr=data.sel(lat=slice(lat[0],lat[1]),lon=slice(lon[0],lon[1]))\n",
    "    else:\n",
    "        lsmask01 = mask_cal(data)\n",
    "        if environ is 'ocean':\n",
    "            pr=data.where(lsmask01<0).sel(lat=slice(lat[0],lat[1]),lon=slice(lon[0],lon[1]))\n",
    "        elif environ is 'land':\n",
    "            pr=data.where(lsmask01>0).sel(lat=slice(lat[0],lat[1]),lon=slice(lon[0],lon[1]))\n",
    "        else:\n",
    "            return print('Something is wrong')\n",
    "    \n",
    "    prmon = pr.resample(time='1MS').mean(dim='time')\n",
    "    prmon_clim = prmon.groupby('time.month').mean(dim='time')\n",
    "    \n",
    "    jobs = dask.persist(prmon_clim)\n",
    "    progress(jobs, notebook=False)\n",
    "    precip = dask.compute(prmon_clim)\n",
    "    \n",
    "    return precip[0]"
   ]
  },
  {
   "cell_type": "markdown",
   "id": "477a6fab",
   "metadata": {},
   "source": [
    "## calculate object detection"
   ]
  },
  {
   "cell_type": "markdown",
   "id": "72109bf6",
   "metadata": {},
   "source": [
    "_calculate area grid_"
   ]
  },
  {
   "cell_type": "code",
   "execution_count": 12,
   "id": "dc746cfc",
   "metadata": {
    "vscode": {
     "languageId": "python"
    }
   },
   "outputs": [],
   "source": [
    "def calc_area(data,dx,dy):\n",
    "    ##Calculate the area of each grid cell in the data\n",
    "    earthr = 6.371e6\n",
    "    loncmorph,latcmorph = np.meshgrid(data.lon.values,data.lat.values)\n",
    "    area = xr.DataArray(data = (dx/180*np.pi)*earthr*np.cos(latcmorph/180*np.pi)*(dy/180*np.pi)*earthr,\n",
    "                            dims=[\"lat\",\"lon\"],\n",
    "                            coords=dict(\n",
    "                            lat=([\"lat\"],data.lat.values),\n",
    "                            lon=([\"lon\"],data.lon.values),))\n",
    "    return area"
   ]
  },
  {
   "cell_type": "code",
   "execution_count": 13,
   "id": "99ae461a",
   "metadata": {
    "vscode": {
     "languageId": "python"
    }
   },
   "outputs": [],
   "source": [
    "def calc_objects(data,threshold,structure):\n",
    "    ## This function calculates the objects of precipitation according to a threshold and a strcuture\n",
    "    labels,num = measurements.label(data.where(data>threshold,0),structure=structure)\n",
    "    ###sorting labels according to index\n",
    "    labelsu = np.unique(labels);\n",
    "    labels_n = np.searchsorted(labelsu,labels); \n",
    "    indices_n = np.arange(np.max(labels_n)+1);\n",
    "    return labels_n,indices_n"
   ]
  },
  {
   "cell_type": "code",
   "execution_count": 14,
   "id": "c3719b3a",
   "metadata": {
    "vscode": {
     "languageId": "python"
    }
   },
   "outputs": [],
   "source": [
    "def cal_statistic(data,area_grid,labels_n,indices_n,threshold):\n",
    "    ## This function calculates the statistics of the objects as: \n",
    "        ##area \n",
    "        ##mean precipitation\n",
    "        ##centroid (longitude and latitude)\n",
    "    sum_area=ndimage.sum(area_grid,labels_n,indices_n)\n",
    "    meanp = ndimage.mean((data).where(data>threshold,0),labels_n,indices_n)\n",
    "    meanp_area = (ndimage.mean(data,labels_n,indices_n)/(ndimage.sum(area_grid,labels_n,indices_n)))\n",
    "    centr_lat = [data.lat.values[int(ndimage.center_of_mass((data),labels_n,indices_n)[j][0])] for j in range(\n",
    "        len(indices_n))]\n",
    "    centr_lon = [data.lon.values[int(ndimage.center_of_mass((data),labels_n,indices_n)[j][1])] for j in range(\n",
    "        len(indices_n))]\n",
    "    \n",
    "    stats  = np.zeros((5,len(indices_n)))\n",
    "    stats[0,:] = sum_area\n",
    "    stats[1,:] = meanp\n",
    "    stats[2,:] = meanp_area\n",
    "    stats[3,:] = centr_lat\n",
    "    stats[4,:] = centr_lon\n",
    "    \n",
    "    return meanp, sum_area, stats"
   ]
  },
  {
   "cell_type": "code",
   "execution_count": 15,
   "id": "d0cd3a08",
   "metadata": {
    "vscode": {
     "languageId": "python"
    }
   },
   "outputs": [],
   "source": [
    "def cal_max_object(data,stats,labels_n,indices_n,sum_area,meanp,threshold,area_min):\n",
    "    ##This function caluclates the object with the maximum area \n",
    "    sel_ind = indices_n[(meanp>threshold) & (sum_area/1000000>(area_min))]\n",
    "    nstats = [stats[:,indices_n==sel_ind[i]] for i in range(len(sel_ind))]\n",
    "    nlabel = [np.where(labels_n==sel_ind[i], data, np.nan) for i in range(len(sel_ind))]\n",
    "    \n",
    "    if not sel_ind.any():\n",
    "        nstats = [np.zeros((5,1))*np.nan]\n",
    "        return nstats,nlabel\n",
    "    elif len(sel_ind) == 1:\n",
    "        return nstats,nlabel\n",
    "    else:\n",
    "        area = [nstats[i][0] for i in range(len(sel_ind))]\n",
    "        max_tuple = max(area, key=lambda x:x[0])\n",
    "        max_ind = area.index(max_tuple)\n",
    "\n",
    "        return [nstats[max_ind]], [nlabel[max_ind]]"
   ]
  },
  {
   "cell_type": "code",
   "execution_count": 16,
   "id": "6d572650",
   "metadata": {
    "vscode": {
     "languageId": "python"
    }
   },
   "outputs": [],
   "source": [
    "def object_id(data,dx,dy,structure,threshold,area_min):\n",
    "    ####create area\n",
    "    area_grid = calc_area(data,dx,dy) \n",
    "    ###calculating objects\n",
    "    labels_n,indices_n = calc_objects(data,threshold,structure)\n",
    "    \n",
    "    ###calculate stats\n",
    "    meanp, sum_area, stats = cal_statistic(data,area_grid,labels_n,indices_n,threshold)\n",
    "\n",
    "    ###selecting only the according to the classification \n",
    "    return cal_max_object(data,stats,labels_n,indices_n,sum_area,meanp,threshold,area_min)"
   ]
  },
  {
   "cell_type": "markdown",
   "id": "c530d690",
   "metadata": {},
   "source": [
    "# Load Precipitation over the land "
   ]
  },
  {
   "cell_type": "code",
   "execution_count": 19,
   "id": "9c35199a",
   "metadata": {
    "vscode": {
     "languageId": "python"
    }
   },
   "outputs": [],
   "source": [
    "times = ['2020-01-20','2021-01-31']\n",
    "var = 'pr'\n",
    "pr_land = time_mean_model(file_icon_pp,times,var,[-30,30],[-180,180],'land')"
   ]
  },
  {
   "cell_type": "code",
   "execution_count": 29,
   "id": "0120cf88",
   "metadata": {
    "vscode": {
     "languageId": "python"
    }
   },
   "outputs": [
    {
     "name": "stdout",
     "output_type": "stream",
     "text": [
      "[########################################] | 100% Completed |  1min  3.3s\r"
     ]
    }
   ],
   "source": [
    "imerg_mult_land_int= time_mean_imerg_multi(file_imerg,[-180,180],[-30,30],'land')"
   ]
  },
  {
   "cell_type": "markdown",
   "id": "d9f2a48f",
   "metadata": {},
   "source": [
    "**introduce zero to nan values**"
   ]
  },
  {
   "cell_type": "code",
   "execution_count": 20,
   "id": "ea6b21e0",
   "metadata": {
    "vscode": {
     "languageId": "python"
    }
   },
   "outputs": [],
   "source": [
    "pr2_land = pr_land.where(pr_land>=0,0)"
   ]
  },
  {
   "cell_type": "code",
   "execution_count": 30,
   "id": "d03e1cbc",
   "metadata": {
    "vscode": {
     "languageId": "python"
    }
   },
   "outputs": [],
   "source": [
    "pr2_imerg_land = imerg_mult_land_int.where(imerg_mult_land_int[0]>=0,0)"
   ]
  },
  {
   "cell_type": "markdown",
   "id": "71cfce45",
   "metadata": {},
   "source": [
    "**Calculate the quantile 80 per month**\n",
    "**Reasonable comparison**"
   ]
  },
  {
   "cell_type": "code",
   "execution_count": 21,
   "id": "52679b1c",
   "metadata": {
    "vscode": {
     "languageId": "python"
    }
   },
   "outputs": [],
   "source": [
    "pr_land_q80 = pr_land.quantile(0.8,dim=('lon','lat'))"
   ]
  },
  {
   "cell_type": "code",
   "execution_count": 31,
   "id": "d1eb0b97",
   "metadata": {
    "vscode": {
     "languageId": "python"
    }
   },
   "outputs": [],
   "source": [
    "pr_imerg_land_q80 = imerg_mult_land_int.quantile(0.8,dim=('lon','lat'))"
   ]
  },
  {
   "cell_type": "markdown",
   "id": "d373141f",
   "metadata": {},
   "source": [
    "**Set up the structure**"
   ]
  },
  {
   "cell_type": "code",
   "execution_count": 22,
   "id": "d115b682",
   "metadata": {
    "vscode": {
     "languageId": "python"
    }
   },
   "outputs": [],
   "source": [
    "s = ndimage.generate_binary_structure(2,2)"
   ]
  },
  {
   "cell_type": "markdown",
   "id": "9cce5643",
   "metadata": {},
   "source": [
    "_South America_ [data,stats,labels_n,indices_n,sum_area,meanp,threshold,area_min]"
   ]
  },
  {
   "cell_type": "code",
   "execution_count": 23,
   "id": "e6283ed6",
   "metadata": {
    "vscode": {
     "languageId": "python"
    }
   },
   "outputs": [],
   "source": [
    "sam_stats =  [object_id(pr2_land[i,:,:].sel(lat=slice(-30,13),lon=slice(-82,-30)),0.1,0.1,s,\\\n",
    "                                     pr_land_q80[i].values,[500*500]) for i in range(pr_land_q80.size)]"
   ]
  },
  {
   "cell_type": "code",
   "execution_count": 32,
   "id": "6232e11b",
   "metadata": {
    "vscode": {
     "languageId": "python"
    }
   },
   "outputs": [],
   "source": [
    "sam_imerg_stats =  [object_id(pr2_imerg_land[i,:,:].sel(lat=slice(-30,13),lon=slice(-82,-30)),0.1,0.1,s,\\\n",
    "                                     pr_imerg_land_q80[i].values,[500*500]) for i in range(pr_imerg_land_q80.size)]"
   ]
  },
  {
   "cell_type": "markdown",
   "id": "7291044b",
   "metadata": {},
   "source": [
    "**Extract the area**"
   ]
  },
  {
   "cell_type": "code",
   "execution_count": 24,
   "id": "53ce9a54",
   "metadata": {
    "vscode": {
     "languageId": "python"
    }
   },
   "outputs": [],
   "source": [
    "sam_area = [sam_stats[i][0][0][0] for i in range(pr_land_q80.size)]"
   ]
  },
  {
   "cell_type": "code",
   "execution_count": 33,
   "id": "320569a8",
   "metadata": {
    "vscode": {
     "languageId": "python"
    }
   },
   "outputs": [],
   "source": [
    "sam_area_imerg = [sam_imerg_stats[i][0][0][0] for i in range(pr_imerg_land_q80.size)]"
   ]
  },
  {
   "cell_type": "markdown",
   "id": "2ddc7887",
   "metadata": {},
   "source": [
    "**Extract the longitude**"
   ]
  },
  {
   "cell_type": "code",
   "execution_count": 25,
   "id": "c7744089",
   "metadata": {
    "vscode": {
     "languageId": "python"
    }
   },
   "outputs": [],
   "source": [
    "sam_loni = [sam_stats[i][0][0][-1] for i in range(pr_land_q80.size)]"
   ]
  },
  {
   "cell_type": "code",
   "execution_count": 34,
   "id": "1dff39be",
   "metadata": {
    "vscode": {
     "languageId": "python"
    }
   },
   "outputs": [],
   "source": [
    "sam_loni_imerg = [sam_imerg_stats[i][0][0][-1] for i in range(pr_imerg_land_q80.size)]"
   ]
  },
  {
   "cell_type": "markdown",
   "id": "a2672379",
   "metadata": {},
   "source": [
    "**Extract the latitude**"
   ]
  },
  {
   "cell_type": "code",
   "execution_count": 26,
   "id": "80d0eea1",
   "metadata": {
    "vscode": {
     "languageId": "python"
    }
   },
   "outputs": [],
   "source": [
    "sam_lati = [sam_stats[i][0][0][-2] for i in range(pr_land_q80.size)]"
   ]
  },
  {
   "cell_type": "code",
   "execution_count": 35,
   "id": "e1237f3a",
   "metadata": {
    "vscode": {
     "languageId": "python"
    }
   },
   "outputs": [],
   "source": [
    "sam_lati_imerg = [sam_imerg_stats[i][0][0][-2] for i in range(pr_imerg_land_q80.size)]"
   ]
  },
  {
   "cell_type": "markdown",
   "id": "44625be1",
   "metadata": {},
   "source": [
    "**Extract the Precipitation**"
   ]
  },
  {
   "cell_type": "code",
   "execution_count": 87,
   "id": "9fcb2f3b",
   "metadata": {
    "vscode": {
     "languageId": "python"
    }
   },
   "outputs": [],
   "source": [
    "sam_precip = [sam_stats[i][0][0][2] for i in range(pr_land_q80.size)]"
   ]
  },
  {
   "cell_type": "code",
   "execution_count": 88,
   "id": "3ef553b4",
   "metadata": {
    "vscode": {
     "languageId": "python"
    }
   },
   "outputs": [],
   "source": [
    "sam_precip_imerg = [sam_imerg_stats[i][0][0][2] for i in range(pr_imerg_land_q80.size)]"
   ]
  },
  {
   "cell_type": "markdown",
   "id": "e442bf8d",
   "metadata": {},
   "source": [
    "**plot on the map**"
   ]
  },
  {
   "cell_type": "code",
   "execution_count": 73,
   "id": "d0efbc88",
   "metadata": {
    "vscode": {
     "languageId": "python"
    }
   },
   "outputs": [
    {
     "data": {
      "text/plain": [
       "<matplotlib.legend.Legend at 0x7fb1e84d93d0>"
      ]
     },
     "execution_count": 73,
     "metadata": {},
     "output_type": "execute_result"
    },
    {
     "data": {
      "image/png": "[encoded data removed]",
      "text/plain": [
       "<Figure size 720x576 with 1 Axes>"
      ]
     },
     "metadata": {
      "needs_background": "light"
     },
     "output_type": "display_data"
    }
   ],
   "source": [
    "import datetime\n",
    "fig = plt.figure(figsize=(10,8))\n",
    "#fig.suptitle('Amazon Precipitation', size=30)\n",
    "plt.plot(sam_lati,'o-b',label=\"CTL\",linewidth=2.5)\n",
    "plt.plot(sam_lati_imerg,'o-r',label=\"IMERG\",linewidth=2.5)\n",
    "\n",
    "plt.ylabel('LAT',fontsize=30)\n",
    "plt.xlabel('Month',fontsize=30)\n",
    "#plt.xlim([datetime.date(2020, 1, 23),datetime.date(2021, 1, 31)])\n",
    "#plt.ylim(0,25)\n",
    "plt.xticks(fontsize=30,rotation=0)\n",
    "plt.yticks(fontsize=30)\n",
    "plt.legend(fontsize=25, frameon=False)"
   ]
  },
  {
   "cell_type": "code",
   "execution_count": 82,
   "id": "5b984530",
   "metadata": {
    "vscode": {
     "languageId": "python"
    }
   },
   "outputs": [
    {
     "data": {
      "text/plain": [
       "<matplotlib.legend.Legend at 0x7fb2479a2f40>"
      ]
     },
     "execution_count": 82,
     "metadata": {},
     "output_type": "execute_result"
    },
    {
     "data": {
      "image/png": "[encoded data removed]",
      "text/plain": [
       "<Figure size 720x576 with 1 Axes>"
      ]
     },
     "metadata": {
      "needs_background": "light"
     },
     "output_type": "display_data"
    }
   ],
   "source": [
    "import datetime\n",
    "fig = plt.figure(figsize=(10,8))\n",
    "#fig.suptitle('Amazon Precipitation', size=30)\n",
    "plt.plot(sam_loni,'o-b',label=\"CTL\",linewidth=2.5)\n",
    "plt.plot(sam_loni_imerg,'o-r',label=\"IMERG\",linewidth=2.5)\n",
    "\n",
    "plt.ylabel('LON',fontsize=30)\n",
    "plt.xlabel('Month',fontsize=30)\n",
    "#plt.xlim([datetime.date(2020, 1, 23),datetime.date(2021, 1, 31)])\n",
    "#plt.ylim(0,25)\n",
    "plt.xticks(fontsize=30,rotation=0)\n",
    "plt.yticks(fontsize=30)\n",
    "plt.legend(fontsize=25, frameon=False)"
   ]
  },
  {
   "cell_type": "code",
   "execution_count": 75,
   "id": "89aef46c",
   "metadata": {
    "vscode": {
     "languageId": "python"
    }
   },
   "outputs": [
    {
     "data": {
      "text/plain": [
       "<matplotlib.legend.Legend at 0x7fb24c1755b0>"
      ]
     },
     "execution_count": 75,
     "metadata": {},
     "output_type": "execute_result"
    },
    {
     "data": {
      "image/png": "[encoded data removed]",
      "text/plain": [
       "<Figure size 720x576 with 1 Axes>"
      ]
     },
     "metadata": {
      "needs_background": "light"
     },
     "output_type": "display_data"
    }
   ],
   "source": [
    "import datetime\n",
    "fig = plt.figure(figsize=(10,8))\n",
    "#fig.suptitle('Amazon Precipitation', size=30)\n",
    "plt.plot(np.concatenate(sam_area)/1000000,'o-b',label=\"CTL\",linewidth=2.5)\n",
    "plt.plot(np.concatenate(sam_area_imerg)/1000000,'o-r',label=\"IMERG\",linewidth=2.5)\n",
    "\n",
    "plt.ylabel('Area [km^2]',fontsize=30)\n",
    "plt.xlabel('Month',fontsize=30)\n",
    "#plt.xlim([datetime.date(2020, 1, 23),datetime.date(2021, 1, 31)])\n",
    "#plt.ylim(0,25)\n",
    "plt.xticks(fontsize=30,rotation=0)\n",
    "plt.yticks(fontsize=30)\n",
    "plt.legend(fontsize=25, frameon=False)"
   ]
  },
  {
   "cell_type": "code",
   "execution_count": 89,
   "id": "ba53be68",
   "metadata": {
    "vscode": {
     "languageId": "python"
    }
   },
   "outputs": [
    {
     "data": {
      "text/plain": [
       "<matplotlib.legend.Legend at 0x7fb247dac9d0>"
      ]
     },
     "execution_count": 89,
     "metadata": {},
     "output_type": "execute_result"
    },
    {
     "data": {
      "image/png": "[encoded data removed]",
      "text/plain": [
       "<Figure size 720x576 with 1 Axes>"
      ]
     },
     "metadata": {
      "needs_background": "light"
     },
     "output_type": "display_data"
    }
   ],
   "source": [
    "import datetime\n",
    "fig = plt.figure(figsize=(10,8))\n",
    "#fig.suptitle('Amazon Precipitation', size=30)\n",
    "plt.plot(sam_precip,'o-b',label=\"CTL\",linewidth=2.5)\n",
    "plt.plot(sam_precip_imerg,'o-r',label=\"IMERG\",linewidth=2.5)\n",
    "\n",
    "plt.ylabel('Precipitation [mm/day]',fontsize=30)\n",
    "plt.xlabel('Month',fontsize=30)\n",
    "#plt.xlim([datetime.date(2020, 1, 23),datetime.date(2021, 1, 31)])\n",
    "#plt.ylim(0,25)\n",
    "plt.xticks(fontsize=30,rotation=0)\n",
    "plt.yticks(fontsize=30)\n",
    "plt.legend(fontsize=25, frameon=False)"
   ]
  },
  {
   "cell_type": "code",
   "execution_count": 79,
   "id": "9a176cc8",
   "metadata": {
    "vscode": {
     "languageId": "python"
    }
   },
   "outputs": [
    {
     "data": {
      "text/plain": [
       "[([array([[ 5.65361563e+12],\n",
       "          [ 1.27554358e+01],\n",
       "          [ 2.25615546e-12],\n",
       "          [-9.95000000e+00],\n",
       "          [-5.85500000e+01]])],\n",
       "  [array([[nan, nan, nan, ..., nan, nan, nan],\n",
       "          [nan, nan, nan, ..., nan, nan, nan],\n",
       "          [nan, nan, nan, ..., nan, nan, nan],\n",
       "          ...,\n",
       "          [nan, nan, nan, ..., nan, nan, nan],\n",
       "          [nan, nan, nan, ..., nan, nan, nan],\n",
       "          [nan, nan, nan, ..., nan, nan, nan]], dtype=float32)]),\n",
       " ([array([[ 5.35259379e+12],\n",
       "          [ 1.20264164e+01],\n",
       "          [ 2.24683899e-12],\n",
       "          [-8.75000000e+00],\n",
       "          [-5.91500000e+01]])],\n",
       "  [array([[nan, nan, nan, ..., nan, nan, nan],\n",
       "          [nan, nan, nan, ..., nan, nan, nan],\n",
       "          [nan, nan, nan, ..., nan, nan, nan],\n",
       "          ...,\n",
       "          [nan, nan, nan, ..., nan, nan, nan],\n",
       "          [nan, nan, nan, ..., nan, nan, nan],\n",
       "          [nan, nan, nan, ..., nan, nan, nan]], dtype=float32)]),\n",
       " ([array([[ 7.36106569e+12],\n",
       "          [ 1.16799004e+01],\n",
       "          [ 1.58671324e-12],\n",
       "          [-7.25000000e+00],\n",
       "          [-5.98500000e+01]])],\n",
       "  [array([[nan, nan, nan, ..., nan, nan, nan],\n",
       "          [nan, nan, nan, ..., nan, nan, nan],\n",
       "          [nan, nan, nan, ..., nan, nan, nan],\n",
       "          ...,\n",
       "          [nan, nan, nan, ..., nan, nan, nan],\n",
       "          [nan, nan, nan, ..., nan, nan, nan],\n",
       "          [nan, nan, nan, ..., nan, nan, nan]], dtype=float32)]),\n",
       " ([array([[ 5.81615737e+12],\n",
       "          [ 1.11252085e+01],\n",
       "          [ 1.91281078e-12],\n",
       "          [-1.35000000e+00],\n",
       "          [-6.19500000e+01]])],\n",
       "  [array([[nan, nan, nan, ..., nan, nan, nan],\n",
       "          [nan, nan, nan, ..., nan, nan, nan],\n",
       "          [nan, nan, nan, ..., nan, nan, nan],\n",
       "          ...,\n",
       "          [nan, nan, nan, ..., nan, nan, nan],\n",
       "          [nan, nan, nan, ..., nan, nan, nan],\n",
       "          [nan, nan, nan, ..., nan, nan, nan]], dtype=float32)]),\n",
       " ([array([[ 3.25393044e+12],\n",
       "          [ 1.05707651e+01],\n",
       "          [ 3.24861432e-12],\n",
       "          [ 1.65000000e+00],\n",
       "          [-6.42500000e+01]])],\n",
       "  [array([[nan, nan, nan, ..., nan, nan, nan],\n",
       "          [nan, nan, nan, ..., nan, nan, nan],\n",
       "          [nan, nan, nan, ..., nan, nan, nan],\n",
       "          ...,\n",
       "          [nan, nan, nan, ..., nan, nan, nan],\n",
       "          [nan, nan, nan, ..., nan, nan, nan],\n",
       "          [nan, nan, nan, ..., nan, nan, nan]], dtype=float32)]),\n",
       " ([array([[ 1.95470995e+12],\n",
       "          [ 1.04317382e+01],\n",
       "          [ 5.33671924e-12],\n",
       "          [ 1.65000000e+00],\n",
       "          [-6.70500000e+01]])],\n",
       "  [array([[nan, nan, nan, ..., nan, nan, nan],\n",
       "          [nan, nan, nan, ..., nan, nan, nan],\n",
       "          [nan, nan, nan, ..., nan, nan, nan],\n",
       "          ...,\n",
       "          [nan, nan, nan, ..., nan, nan, nan],\n",
       "          [nan, nan, nan, ..., nan, nan, nan],\n",
       "          [nan, nan, nan, ..., nan, nan, nan]], dtype=float32)]),\n",
       " ([array([[ 1.57204150e+12],\n",
       "          [ 1.23003864e+01],\n",
       "          [ 7.82446668e-12],\n",
       "          [ 4.85000000e+00],\n",
       "          [-6.78500000e+01]])],\n",
       "  [array([[nan, nan, nan, ..., nan, nan, nan],\n",
       "          [nan, nan, nan, ..., nan, nan, nan],\n",
       "          [nan, nan, nan, ..., nan, nan, nan],\n",
       "          ...,\n",
       "          [nan, nan, nan, ..., nan, nan, nan],\n",
       "          [nan, nan, nan, ..., nan, nan, nan],\n",
       "          [nan, nan, nan, ..., nan, nan, nan]], dtype=float32)]),\n",
       " ([array([[ 4.77018373e+11],\n",
       "          [ 1.56436787e+01],\n",
       "          [ 3.27947091e-11],\n",
       "          [ 7.45000000e+00],\n",
       "          [-7.55500000e+01]])],\n",
       "  [array([[nan, nan, nan, ..., nan, nan, nan],\n",
       "          [nan, nan, nan, ..., nan, nan, nan],\n",
       "          [nan, nan, nan, ..., nan, nan, nan],\n",
       "          ...,\n",
       "          [nan, nan, nan, ..., nan, nan, nan],\n",
       "          [nan, nan, nan, ..., nan, nan, nan],\n",
       "          [nan, nan, nan, ..., nan, nan, nan]], dtype=float32)]),\n",
       " ([array([[ 5.64167580e+11],\n",
       "          [ 1.49849315e+01],\n",
       "          [ 2.65611354e-11],\n",
       "          [ 6.85000000e+00],\n",
       "          [-7.55500000e+01]])],\n",
       "  [array([[nan, nan, nan, ..., nan, nan, nan],\n",
       "          [nan, nan, nan, ..., nan, nan, nan],\n",
       "          [nan, nan, nan, ..., nan, nan, nan],\n",
       "          ...,\n",
       "          [nan, nan, nan, ..., nan, nan, nan],\n",
       "          [nan, nan, nan, ..., nan, nan, nan],\n",
       "          [nan, nan, nan, ..., nan, nan, nan]], dtype=float32)]),\n",
       " ([array([[ 4.27217603e+12],\n",
       "          [ 1.02709313e+01],\n",
       "          [ 2.40414516e-12],\n",
       "          [-3.15000000e+00],\n",
       "          [-6.51500000e+01]])],\n",
       "  [array([[nan, nan, nan, ..., nan, nan, nan],\n",
       "          [nan, nan, nan, ..., nan, nan, nan],\n",
       "          [nan, nan, nan, ..., nan, nan, nan],\n",
       "          ...,\n",
       "          [nan, nan, nan, ..., nan, nan, nan],\n",
       "          [nan, nan, nan, ..., nan, nan, nan],\n",
       "          [nan, nan, nan, ..., nan, nan, nan]], dtype=float32)]),\n",
       " ([array([[ 3.55962573e+12],\n",
       "          [ 1.08300415e+01],\n",
       "          [ 3.04246635e-12],\n",
       "          [-1.36500000e+01],\n",
       "          [-5.43500000e+01]])],\n",
       "  [array([[nan, nan, nan, ..., nan, nan, nan],\n",
       "          [nan, nan, nan, ..., nan, nan, nan],\n",
       "          [nan, nan, nan, ..., nan, nan, nan],\n",
       "          ...,\n",
       "          [nan, nan, nan, ..., nan, nan, nan],\n",
       "          [nan, nan, nan, ..., nan, nan, nan],\n",
       "          [nan, nan, nan, ..., nan, nan, nan]], dtype=float32)]),\n",
       " ([array([[ 5.82812330e+12],\n",
       "          [ 1.22946234e+01],\n",
       "          [ 2.10953385e-12],\n",
       "          [-1.14500000e+01],\n",
       "          [-6.03500000e+01]])],\n",
       "  [array([[nan, nan, nan, ..., nan, nan, nan],\n",
       "          [nan, nan, nan, ..., nan, nan, nan],\n",
       "          [nan, nan, nan, ..., nan, nan, nan],\n",
       "          ...,\n",
       "          [nan, nan, nan, ..., nan, nan, nan],\n",
       "          [nan, nan, nan, ..., nan, nan, nan],\n",
       "          [nan, nan, nan, ..., nan, nan, nan]], dtype=float32)])]"
      ]
     },
     "execution_count": 79,
     "metadata": {},
     "output_type": "execute_result"
    }
   ],
   "source": [
    "sam_stats"
   ]
  },
  {
   "cell_type": "code",
   "execution_count": null,
   "id": "a43209c8",
   "metadata": {
    "vscode": {
     "languageId": "python"
    }
   },
   "outputs": [],
   "source": []
  }
 ],
 "metadata": {
  "kernelspec": {
   "display_name": "My Kernel",
   "language": "python",
   "name": "my-kernel"
  }
 },
 "nbformat": 4,
 "nbformat_minor": 5
}
