{
 "cells": [
  {
   "cell_type": "code",
   "execution_count": 1,
   "metadata": {},
   "outputs": [
    {
     "name": "stderr",
     "output_type": "stream",
     "text": [
      "/sw/spack-levante/mambaforge-4.11.0-0-Linux-x86_64-sobz6z/lib/python3.9/site-packages/dask_jobqueue/core.py:20: FutureWarning: tmpfile is deprecated and will be removed in a future release. Please use dask.utils.tmpfile instead.\n",
      "  from distributed.utils import tmpfile\n"
     ]
    },
    {
     "name": "stdout",
     "output_type": "stream",
     "text": [
      "Number of CPUs: 256, number of threads: 256, number of workers: 1, processes: False\n"
     ]
    },
    {
     "ename": "KeyError",
     "evalue": "'JUPYTERHUB_SERVICE_PREFIX'",
     "output_type": "error",
     "traceback": [
      "\u001b[0;31m---------------------------------------------------------------------------\u001b[0m",
      "\u001b[0;31mKeyError\u001b[0m                                  Traceback (most recent call last)",
      "File \u001b[0;32m/sw/spack-levante/mambaforge-4.11.0-0-Linux-x86_64-sobz6z/lib/python3.9/site-packages/IPython/core/formatters.py:343\u001b[0m, in \u001b[0;36mBaseFormatter.__call__\u001b[0;34m(self, obj)\u001b[0m\n\u001b[1;32m    341\u001b[0m     method \u001b[39m=\u001b[39m get_real_method(obj, \u001b[39mself\u001b[39m\u001b[39m.\u001b[39mprint_method)\n\u001b[1;32m    342\u001b[0m     \u001b[39mif\u001b[39;00m method \u001b[39mis\u001b[39;00m \u001b[39mnot\u001b[39;00m \u001b[39mNone\u001b[39;00m:\n\u001b[0;32m--> 343\u001b[0m         \u001b[39mreturn\u001b[39;00m method()\n\u001b[1;32m    344\u001b[0m     \u001b[39mreturn\u001b[39;00m \u001b[39mNone\u001b[39;00m\n\u001b[1;32m    345\u001b[0m \u001b[39melse\u001b[39;00m:\n",
      "File \u001b[0;32m/sw/spack-levante/mambaforge-4.11.0-0-Linux-x86_64-sobz6z/lib/python3.9/site-packages/distributed/client.py:1083\u001b[0m, in \u001b[0;36mClient._repr_html_\u001b[0;34m(self)\u001b[0m\n\u001b[1;32m   1074\u001b[0m \u001b[39mdef\u001b[39;00m \u001b[39m_repr_html_\u001b[39m(\u001b[39mself\u001b[39m):\n\u001b[1;32m   1075\u001b[0m     scheduler, info \u001b[39m=\u001b[39m \u001b[39mself\u001b[39m\u001b[39m.\u001b[39m_get_scheduler_info()\n\u001b[1;32m   1077\u001b[0m     \u001b[39mreturn\u001b[39;00m get_template(\u001b[39m\"\u001b[39m\u001b[39mclient.html.j2\u001b[39m\u001b[39m\"\u001b[39m)\u001b[39m.\u001b[39mrender(\n\u001b[1;32m   1078\u001b[0m         \u001b[39mid\u001b[39m\u001b[39m=\u001b[39m\u001b[39mself\u001b[39m\u001b[39m.\u001b[39mid,\n\u001b[1;32m   1079\u001b[0m         scheduler\u001b[39m=\u001b[39mscheduler,\n\u001b[1;32m   1080\u001b[0m         info\u001b[39m=\u001b[39minfo,\n\u001b[1;32m   1081\u001b[0m         cluster\u001b[39m=\u001b[39m\u001b[39mself\u001b[39m\u001b[39m.\u001b[39mcluster,\n\u001b[1;32m   1082\u001b[0m         scheduler_file\u001b[39m=\u001b[39m\u001b[39mself\u001b[39m\u001b[39m.\u001b[39mscheduler_file,\n\u001b[0;32m-> 1083\u001b[0m         dashboard_link\u001b[39m=\u001b[39m\u001b[39mself\u001b[39;49m\u001b[39m.\u001b[39;49mdashboard_link,\n\u001b[1;32m   1084\u001b[0m     )\n",
      "File \u001b[0;32m/sw/spack-levante/mambaforge-4.11.0-0-Linux-x86_64-sobz6z/lib/python3.9/site-packages/distributed/client.py:1009\u001b[0m, in \u001b[0;36mClient.dashboard_link\u001b[0;34m(self)\u001b[0m\n\u001b[1;32m    991\u001b[0m \u001b[39m\"\"\"Link to the scheduler's dashboard.\u001b[39;00m\n\u001b[1;32m    992\u001b[0m \n\u001b[1;32m    993\u001b[0m \u001b[39mReturns\u001b[39;00m\n\u001b[0;32m   (...)\u001b[0m\n\u001b[1;32m   1006\u001b[0m \n\u001b[1;32m   1007\u001b[0m \u001b[39m\"\"\"\u001b[39;00m\n\u001b[1;32m   1008\u001b[0m \u001b[39mtry\u001b[39;00m:\n\u001b[0;32m-> 1009\u001b[0m     \u001b[39mreturn\u001b[39;00m \u001b[39mself\u001b[39;49m\u001b[39m.\u001b[39;49mcluster\u001b[39m.\u001b[39;49mdashboard_link\n\u001b[1;32m   1010\u001b[0m \u001b[39mexcept\u001b[39;00m \u001b[39mAttributeError\u001b[39;00m:\n\u001b[1;32m   1011\u001b[0m     scheduler, info \u001b[39m=\u001b[39m \u001b[39mself\u001b[39m\u001b[39m.\u001b[39m_get_scheduler_info()\n",
      "File \u001b[0;32m/sw/spack-levante/mambaforge-4.11.0-0-Linux-x86_64-sobz6z/lib/python3.9/site-packages/distributed/deploy/cluster.py:328\u001b[0m, in \u001b[0;36mCluster.dashboard_link\u001b[0;34m(self)\u001b[0m\n\u001b[1;32m    326\u001b[0m \u001b[39melse\u001b[39;00m:\n\u001b[1;32m    327\u001b[0m     host \u001b[39m=\u001b[39m \u001b[39mself\u001b[39m\u001b[39m.\u001b[39mscheduler_address\u001b[39m.\u001b[39msplit(\u001b[39m\"\u001b[39m\u001b[39m://\u001b[39m\u001b[39m\"\u001b[39m)[\u001b[39m1\u001b[39m]\u001b[39m.\u001b[39msplit(\u001b[39m\"\u001b[39m\u001b[39m/\u001b[39m\u001b[39m\"\u001b[39m)[\u001b[39m0\u001b[39m]\u001b[39m.\u001b[39msplit(\u001b[39m\"\u001b[39m\u001b[39m:\u001b[39m\u001b[39m\"\u001b[39m)[\u001b[39m0\u001b[39m]\n\u001b[0;32m--> 328\u001b[0m     \u001b[39mreturn\u001b[39;00m format_dashboard_link(host, port)\n",
      "File \u001b[0;32m/sw/spack-levante/mambaforge-4.11.0-0-Linux-x86_64-sobz6z/lib/python3.9/site-packages/distributed/utils.py:1256\u001b[0m, in \u001b[0;36mformat_dashboard_link\u001b[0;34m(host, port)\u001b[0m\n\u001b[1;32m   1254\u001b[0m \u001b[39melse\u001b[39;00m:\n\u001b[1;32m   1255\u001b[0m     scheme \u001b[39m=\u001b[39m \u001b[39m\"\u001b[39m\u001b[39mhttp\u001b[39m\u001b[39m\"\u001b[39m\n\u001b[0;32m-> 1256\u001b[0m \u001b[39mreturn\u001b[39;00m template\u001b[39m.\u001b[39;49mformat(\n\u001b[1;32m   1257\u001b[0m     \u001b[39m*\u001b[39;49m\u001b[39m*\u001b[39;49mtoolz\u001b[39m.\u001b[39;49mmerge(os\u001b[39m.\u001b[39;49menviron, \u001b[39mdict\u001b[39;49m(scheme\u001b[39m=\u001b[39;49mscheme, host\u001b[39m=\u001b[39;49mhost, port\u001b[39m=\u001b[39;49mport))\n\u001b[1;32m   1258\u001b[0m )\n",
      "\u001b[0;31mKeyError\u001b[0m: 'JUPYTERHUB_SERVICE_PREFIX'"
     ]
    },
    {
     "data": {
      "text/plain": [
       "<Client: 'inproc://136.172.124.4/555127/1' processes=1 threads=256, memory=119.21 GiB>"
      ]
     },
     "execution_count": 1,
     "metadata": {},
     "output_type": "execute_result"
    }
   ],
   "source": [
    "import sys\n",
    "sys.path.insert(0,'/work/mh0731/m300876/package')\n",
    "import interp3d\n",
    "import icons\n",
    "from pathlib import Path\n",
    "import importlib\n",
    "import numpy as np\n",
    "import xarray as xr\n",
    "from distributed import Client, progress, wait # Libaray to orchestrate distributed resources\\\n",
    "import dask # Distributed data libary\n",
    "icons.prepare_cpu(memory='128GB',nworker=1)"
   ]
  },
  {
   "cell_type": "code",
   "execution_count": null,
   "metadata": {},
   "outputs": [],
   "source": [
    "import os"
   ]
  },
  {
   "cell_type": "code",
   "execution_count": 2,
   "metadata": {},
   "outputs": [],
   "source": [
    "import dask"
   ]
  },
  {
   "cell_type": "code",
   "execution_count": 3,
   "metadata": {},
   "outputs": [
    {
     "name": "stdout",
     "output_type": "stream",
     "text": [
      "Number of CPUs: 256, number of threads: 256, number of workers: 1, processes: False\n"
     ]
    },
    {
     "ename": "KeyError",
     "evalue": "'JUPYTERHUB_SERVICE_PREFIX'",
     "output_type": "error",
     "traceback": [
      "\u001b[0;31m---------------------------------------------------------------------------\u001b[0m",
      "\u001b[0;31mKeyError\u001b[0m                                  Traceback (most recent call last)",
      "File \u001b[0;32m/sw/spack-levante/mambaforge-4.11.0-0-Linux-x86_64-sobz6z/lib/python3.9/site-packages/IPython/core/formatters.py:343\u001b[0m, in \u001b[0;36mBaseFormatter.__call__\u001b[0;34m(self, obj)\u001b[0m\n\u001b[1;32m    341\u001b[0m     method \u001b[39m=\u001b[39m get_real_method(obj, \u001b[39mself\u001b[39m\u001b[39m.\u001b[39mprint_method)\n\u001b[1;32m    342\u001b[0m     \u001b[39mif\u001b[39;00m method \u001b[39mis\u001b[39;00m \u001b[39mnot\u001b[39;00m \u001b[39mNone\u001b[39;00m:\n\u001b[0;32m--> 343\u001b[0m         \u001b[39mreturn\u001b[39;00m method()\n\u001b[1;32m    344\u001b[0m     \u001b[39mreturn\u001b[39;00m \u001b[39mNone\u001b[39;00m\n\u001b[1;32m    345\u001b[0m \u001b[39melse\u001b[39;00m:\n",
      "File \u001b[0;32m/sw/spack-levante/mambaforge-4.11.0-0-Linux-x86_64-sobz6z/lib/python3.9/site-packages/distributed/client.py:1083\u001b[0m, in \u001b[0;36mClient._repr_html_\u001b[0;34m(self)\u001b[0m\n\u001b[1;32m   1074\u001b[0m \u001b[39mdef\u001b[39;00m \u001b[39m_repr_html_\u001b[39m(\u001b[39mself\u001b[39m):\n\u001b[1;32m   1075\u001b[0m     scheduler, info \u001b[39m=\u001b[39m \u001b[39mself\u001b[39m\u001b[39m.\u001b[39m_get_scheduler_info()\n\u001b[1;32m   1077\u001b[0m     \u001b[39mreturn\u001b[39;00m get_template(\u001b[39m\"\u001b[39m\u001b[39mclient.html.j2\u001b[39m\u001b[39m\"\u001b[39m)\u001b[39m.\u001b[39mrender(\n\u001b[1;32m   1078\u001b[0m         \u001b[39mid\u001b[39m\u001b[39m=\u001b[39m\u001b[39mself\u001b[39m\u001b[39m.\u001b[39mid,\n\u001b[1;32m   1079\u001b[0m         scheduler\u001b[39m=\u001b[39mscheduler,\n\u001b[1;32m   1080\u001b[0m         info\u001b[39m=\u001b[39minfo,\n\u001b[1;32m   1081\u001b[0m         cluster\u001b[39m=\u001b[39m\u001b[39mself\u001b[39m\u001b[39m.\u001b[39mcluster,\n\u001b[1;32m   1082\u001b[0m         scheduler_file\u001b[39m=\u001b[39m\u001b[39mself\u001b[39m\u001b[39m.\u001b[39mscheduler_file,\n\u001b[0;32m-> 1083\u001b[0m         dashboard_link\u001b[39m=\u001b[39m\u001b[39mself\u001b[39;49m\u001b[39m.\u001b[39;49mdashboard_link,\n\u001b[1;32m   1084\u001b[0m     )\n",
      "File \u001b[0;32m/sw/spack-levante/mambaforge-4.11.0-0-Linux-x86_64-sobz6z/lib/python3.9/site-packages/distributed/client.py:1009\u001b[0m, in \u001b[0;36mClient.dashboard_link\u001b[0;34m(self)\u001b[0m\n\u001b[1;32m    991\u001b[0m \u001b[39m\"\"\"Link to the scheduler's dashboard.\u001b[39;00m\n\u001b[1;32m    992\u001b[0m \n\u001b[1;32m    993\u001b[0m \u001b[39mReturns\u001b[39;00m\n\u001b[0;32m   (...)\u001b[0m\n\u001b[1;32m   1006\u001b[0m \n\u001b[1;32m   1007\u001b[0m \u001b[39m\"\"\"\u001b[39;00m\n\u001b[1;32m   1008\u001b[0m \u001b[39mtry\u001b[39;00m:\n\u001b[0;32m-> 1009\u001b[0m     \u001b[39mreturn\u001b[39;00m \u001b[39mself\u001b[39;49m\u001b[39m.\u001b[39;49mcluster\u001b[39m.\u001b[39;49mdashboard_link\n\u001b[1;32m   1010\u001b[0m \u001b[39mexcept\u001b[39;00m \u001b[39mAttributeError\u001b[39;00m:\n\u001b[1;32m   1011\u001b[0m     scheduler, info \u001b[39m=\u001b[39m \u001b[39mself\u001b[39m\u001b[39m.\u001b[39m_get_scheduler_info()\n",
      "File \u001b[0;32m/sw/spack-levante/mambaforge-4.11.0-0-Linux-x86_64-sobz6z/lib/python3.9/site-packages/distributed/deploy/cluster.py:328\u001b[0m, in \u001b[0;36mCluster.dashboard_link\u001b[0;34m(self)\u001b[0m\n\u001b[1;32m    326\u001b[0m \u001b[39melse\u001b[39;00m:\n\u001b[1;32m    327\u001b[0m     host \u001b[39m=\u001b[39m \u001b[39mself\u001b[39m\u001b[39m.\u001b[39mscheduler_address\u001b[39m.\u001b[39msplit(\u001b[39m\"\u001b[39m\u001b[39m://\u001b[39m\u001b[39m\"\u001b[39m)[\u001b[39m1\u001b[39m]\u001b[39m.\u001b[39msplit(\u001b[39m\"\u001b[39m\u001b[39m/\u001b[39m\u001b[39m\"\u001b[39m)[\u001b[39m0\u001b[39m]\u001b[39m.\u001b[39msplit(\u001b[39m\"\u001b[39m\u001b[39m:\u001b[39m\u001b[39m\"\u001b[39m)[\u001b[39m0\u001b[39m]\n\u001b[0;32m--> 328\u001b[0m     \u001b[39mreturn\u001b[39;00m format_dashboard_link(host, port)\n",
      "File \u001b[0;32m/sw/spack-levante/mambaforge-4.11.0-0-Linux-x86_64-sobz6z/lib/python3.9/site-packages/distributed/utils.py:1256\u001b[0m, in \u001b[0;36mformat_dashboard_link\u001b[0;34m(host, port)\u001b[0m\n\u001b[1;32m   1254\u001b[0m \u001b[39melse\u001b[39;00m:\n\u001b[1;32m   1255\u001b[0m     scheme \u001b[39m=\u001b[39m \u001b[39m\"\u001b[39m\u001b[39mhttp\u001b[39m\u001b[39m\"\u001b[39m\n\u001b[0;32m-> 1256\u001b[0m \u001b[39mreturn\u001b[39;00m template\u001b[39m.\u001b[39;49mformat(\n\u001b[1;32m   1257\u001b[0m     \u001b[39m*\u001b[39;49m\u001b[39m*\u001b[39;49mtoolz\u001b[39m.\u001b[39;49mmerge(os\u001b[39m.\u001b[39;49menviron, \u001b[39mdict\u001b[39;49m(scheme\u001b[39m=\u001b[39;49mscheme, host\u001b[39m=\u001b[39;49mhost, port\u001b[39m=\u001b[39;49mport))\n\u001b[1;32m   1258\u001b[0m )\n",
      "\u001b[0;31mKeyError\u001b[0m: 'JUPYTERHUB_SERVICE_PREFIX'"
     ]
    },
    {
     "data": {
      "text/plain": [
       "<Client: 'inproc://136.172.124.4/555127/9' processes=1 threads=256, memory=119.21 GiB>"
      ]
     },
     "execution_count": 3,
     "metadata": {},
     "output_type": "execute_result"
    }
   ],
   "source": [
    "icons.prepare_cpu(memory='128GB',nworker=1)"
   ]
  },
  {
   "cell_type": "code",
   "execution_count": 1,
   "metadata": {},
   "outputs": [],
   "source": [
    "import numpy as np"
   ]
  },
  {
   "cell_type": "code",
   "execution_count": 2,
   "metadata": {},
   "outputs": [],
   "source": [
    "import dask"
   ]
  },
  {
   "cell_type": "code",
   "execution_count": 9,
   "metadata": {},
   "outputs": [
    {
     "data": {
      "text/plain": [
       "'/work/mh0731/m300948/ICON_AMZDEF/script'"
      ]
     },
     "execution_count": 9,
     "metadata": {},
     "output_type": "execute_result"
    }
   ],
   "source": [
    "pwd"
   ]
  },
  {
   "cell_type": "code",
   "execution_count": 11,
   "metadata": {},
   "outputs": [
    {
     "ename": "ModuleNotFoundError",
     "evalue": "No module named 'package.icons'",
     "output_type": "error",
     "traceback": [
      "\u001b[0;31m---------------------------------------------------------------------------\u001b[0m",
      "\u001b[0;31mModuleNotFoundError\u001b[0m                       Traceback (most recent call last)",
      "Cell \u001b[0;32mIn [11], line 1\u001b[0m\n\u001b[0;32m----> 1\u001b[0m \u001b[38;5;28;01mimport\u001b[39;00m \u001b[38;5;21;01mpackage\u001b[39;00m\u001b[38;5;21;01m.\u001b[39;00m\u001b[38;5;21;01micons\u001b[39;00m \u001b[38;5;28;01mas\u001b[39;00m \u001b[38;5;21;01micons\u001b[39;00m\n",
      "\u001b[0;31mModuleNotFoundError\u001b[0m: No module named 'package.icons'"
     ]
    }
   ],
   "source": [
    "import package.icons as icons"
   ]
  },
  {
   "cell_type": "code",
   "execution_count": null,
   "metadata": {},
   "outputs": [],
   "source": []
  }
 ],
 "metadata": {
  "kernelspec": {
   "display_name": "Python 3.10.6 ('icon_amazon')",
   "language": "python",
   "name": "python3"
  },
  "language_info": {
   "codemirror_mode": {
    "name": "ipython",
    "version": 3
   },
   "file_extension": ".py",
   "mimetype": "text/x-python",
   "name": "python",
   "nbconvert_exporter": "python",
   "pygments_lexer": "ipython3",
   "version": "3.10.6"
  },
  "orig_nbformat": 4,
  "vscode": {
   "interpreter": {
    "hash": "60e62d663da58c5f098f33147dad509108c23e5726908b1a6d9840e3bb465b8d"
   }
  }
 },
 "nbformat": 4,
 "nbformat_minor": 2
}
