{
 "cells": [
  {
   "cell_type": "code",
   "execution_count": 1,
   "id": "5b6d472b",
   "metadata": {},
   "outputs": [
    {
     "name": "stderr",
     "output_type": "stream",
     "text": [
      "/sw/spack-levante/mambaforge-4.11.0-0-Linux-x86_64-sobz6z/lib/python3.9/site-packages/dask_jobqueue/core.py:20: FutureWarning: tmpfile is deprecated and will be removed in a future release. Please use dask.utils.tmpfile instead.\n",
      "  from distributed.utils import tmpfile\n"
     ]
    }
   ],
   "source": [
    "####importing packages\n",
    "import sys\n",
    "sys.path.append('/work/mh0731/m300876/package')\n",
    "import interp3d\n",
    "import icons\n",
    "from pathlib import Path\n",
    "import importlib\n",
    "import numpy as np\n",
    "import xarray as xr\n",
    "from distributed import Client, progress, wait # Libaray to orchestrate distributed resources\\"
   ]
  },
  {
   "cell_type": "code",
   "execution_count": null,
   "id": "e8012d6d",
   "metadata": {},
   "outputs": [],
   "source": []
  },
  {
   "cell_type": "code",
   "execution_count": 2,
   "id": "31d74b71",
   "metadata": {},
   "outputs": [],
   "source": [
    "import dask # Distributed data libary"
   ]
  },
  {
   "cell_type": "code",
   "execution_count": 3,
   "id": "d689a3e8",
   "metadata": {},
   "outputs": [
    {
     "name": "stdout",
     "output_type": "stream",
     "text": [
      "Number of CPUs: 256, number of threads: 256, number of workers: 1, processes: False\n"
     ]
    },
    {
     "data": {
      "text/html": [
       "<div>\n",
       "    <div style=\"width: 24px; height: 24px; background-color: #e1e1e1; border: 3px solid #9D9D9D; border-radius: 5px; position: absolute;\"> </div>\n",
       "    <div style=\"margin-left: 48px;\">\n",
       "        <h3 style=\"margin-bottom: 0px;\">Client</h3>\n",
       "        <p style=\"color: #9D9D9D; margin-bottom: 0px;\">Client-d752b0e1-4b0d-11ed-a3a3-080038c04f5d</p>\n",
       "        <table style=\"width: 100%; text-align: left;\">\n",
       "\n",
       "        <tr>\n",
       "        \n",
       "            <td style=\"text-align: left;\"><strong>Connection method:</strong> Cluster object</td>\n",
       "            <td style=\"text-align: left;\"><strong>Cluster type:</strong> distributed.LocalCluster</td>\n",
       "        \n",
       "        </tr>\n",
       "\n",
       "        \n",
       "            <tr>\n",
       "                <td style=\"text-align: left;\">\n",
       "                    <strong>Dashboard: </strong> <a href=\"/user/m300876/levante-spawner-advanced//proxy/36105/status\" target=\"_blank\">/user/m300876/levante-spawner-advanced//proxy/36105/status</a>\n",
       "                </td>\n",
       "                <td style=\"text-align: left;\"></td>\n",
       "            </tr>\n",
       "        \n",
       "\n",
       "        </table>\n",
       "\n",
       "        \n",
       "            <details>\n",
       "            <summary style=\"margin-bottom: 20px;\"><h3 style=\"display: inline;\">Cluster Info</h3></summary>\n",
       "            <div class=\"jp-RenderedHTMLCommon jp-RenderedHTML jp-mod-trusted jp-OutputArea-output\">\n",
       "    <div style=\"width: 24px; height: 24px; background-color: #e1e1e1; border: 3px solid #9D9D9D; border-radius: 5px; position: absolute;\">\n",
       "    </div>\n",
       "    <div style=\"margin-left: 48px;\">\n",
       "        <h3 style=\"margin-bottom: 0px; margin-top: 0px;\">LocalCluster</h3>\n",
       "        <p style=\"color: #9D9D9D; margin-bottom: 0px;\">b0955b1b</p>\n",
       "        <table style=\"width: 100%; text-align: left;\">\n",
       "            <tr>\n",
       "                <td style=\"text-align: left;\">\n",
       "                    <strong>Dashboard:</strong> <a href=\"/user/m300876/levante-spawner-advanced//proxy/36105/status\" target=\"_blank\">/user/m300876/levante-spawner-advanced//proxy/36105/status</a>\n",
       "                </td>\n",
       "                <td style=\"text-align: left;\">\n",
       "                    <strong>Workers:</strong> 1\n",
       "                </td>\n",
       "            </tr>\n",
       "            <tr>\n",
       "                <td style=\"text-align: left;\">\n",
       "                    <strong>Total threads:</strong> 256\n",
       "                </td>\n",
       "                <td style=\"text-align: left;\">\n",
       "                    <strong>Total memory:</strong> 119.21 GiB\n",
       "                </td>\n",
       "            </tr>\n",
       "            \n",
       "            <tr>\n",
       "    <td style=\"text-align: left;\"><strong>Status:</strong> running</td>\n",
       "    <td style=\"text-align: left;\"><strong>Using processes:</strong> False</td>\n",
       "</tr>\n",
       "\n",
       "            \n",
       "        </table>\n",
       "\n",
       "        <details>\n",
       "            <summary style=\"margin-bottom: 20px;\">\n",
       "                <h3 style=\"display: inline;\">Scheduler Info</h3>\n",
       "            </summary>\n",
       "\n",
       "            <div style=\"\">\n",
       "    <div>\n",
       "        <div style=\"width: 24px; height: 24px; background-color: #FFF7E5; border: 3px solid #FF6132; border-radius: 5px; position: absolute;\"> </div>\n",
       "        <div style=\"margin-left: 48px;\">\n",
       "            <h3 style=\"margin-bottom: 0px;\">Scheduler</h3>\n",
       "            <p style=\"color: #9D9D9D; margin-bottom: 0px;\">Scheduler-c4e6f7e2-70e8-4906-95b0-fffbefa3416b</p>\n",
       "            <table style=\"width: 100%; text-align: left;\">\n",
       "                <tr>\n",
       "                    <td style=\"text-align: left;\">\n",
       "                        <strong>Comm:</strong> inproc://136.172.120.208/582563/1\n",
       "                    </td>\n",
       "                    <td style=\"text-align: left;\">\n",
       "                        <strong>Workers:</strong> 1\n",
       "                    </td>\n",
       "                </tr>\n",
       "                <tr>\n",
       "                    <td style=\"text-align: left;\">\n",
       "                        <strong>Dashboard:</strong> <a href=\"/user/m300876/levante-spawner-advanced//proxy/36105/status\" target=\"_blank\">/user/m300876/levante-spawner-advanced//proxy/36105/status</a>\n",
       "                    </td>\n",
       "                    <td style=\"text-align: left;\">\n",
       "                        <strong>Total threads:</strong> 256\n",
       "                    </td>\n",
       "                </tr>\n",
       "                <tr>\n",
       "                    <td style=\"text-align: left;\">\n",
       "                        <strong>Started:</strong> Just now\n",
       "                    </td>\n",
       "                    <td style=\"text-align: left;\">\n",
       "                        <strong>Total memory:</strong> 119.21 GiB\n",
       "                    </td>\n",
       "                </tr>\n",
       "            </table>\n",
       "        </div>\n",
       "    </div>\n",
       "\n",
       "    <details style=\"margin-left: 48px;\">\n",
       "        <summary style=\"margin-bottom: 20px;\">\n",
       "            <h3 style=\"display: inline;\">Workers</h3>\n",
       "        </summary>\n",
       "\n",
       "        \n",
       "        <div style=\"margin-bottom: 20px;\">\n",
       "            <div style=\"width: 24px; height: 24px; background-color: #DBF5FF; border: 3px solid #4CC9FF; border-radius: 5px; position: absolute;\"> </div>\n",
       "            <div style=\"margin-left: 48px;\">\n",
       "            <details>\n",
       "                <summary>\n",
       "                    <h4 style=\"margin-bottom: 0px; display: inline;\">Worker: 0</h4>\n",
       "                </summary>\n",
       "                <table style=\"width: 100%; text-align: left;\">\n",
       "                    <tr>\n",
       "                        <td style=\"text-align: left;\">\n",
       "                            <strong>Comm: </strong> inproc://136.172.120.208/582563/4\n",
       "                        </td>\n",
       "                        <td style=\"text-align: left;\">\n",
       "                            <strong>Total threads: </strong> 256\n",
       "                        </td>\n",
       "                    </tr>\n",
       "                    <tr>\n",
       "                        <td style=\"text-align: left;\">\n",
       "                            <strong>Dashboard: </strong> <a href=\"/user/m300876/levante-spawner-advanced//proxy/35347/status\" target=\"_blank\">/user/m300876/levante-spawner-advanced//proxy/35347/status</a>\n",
       "                        </td>\n",
       "                        <td style=\"text-align: left;\">\n",
       "                            <strong>Memory: </strong> 119.21 GiB\n",
       "                        </td>\n",
       "                    </tr>\n",
       "                    <tr>\n",
       "                        <td style=\"text-align: left;\">\n",
       "                            <strong>Nanny: </strong> None\n",
       "                        </td>\n",
       "                        <td style=\"text-align: left;\"></td>\n",
       "                    </tr>\n",
       "                    <tr>\n",
       "                        <td colspan=\"2\" style=\"text-align: left;\">\n",
       "                            <strong>Local directory: </strong> /home/m/m300876/jupyter/mini-hackathon/dask-worker-space/worker-3ew0tkhn\n",
       "                        </td>\n",
       "                    </tr>\n",
       "\n",
       "                    \n",
       "\n",
       "                    \n",
       "\n",
       "                </table>\n",
       "            </details>\n",
       "            </div>\n",
       "        </div>\n",
       "        \n",
       "\n",
       "    </details>\n",
       "</div>\n",
       "\n",
       "        </details>\n",
       "    </div>\n",
       "</div>\n",
       "            </details>\n",
       "        \n",
       "\n",
       "    </div>\n",
       "</div>"
      ],
      "text/plain": [
       "<Client: 'inproc://136.172.120.208/582563/1' processes=1 threads=256, memory=119.21 GiB>"
      ]
     },
     "execution_count": 3,
     "metadata": {},
     "output_type": "execute_result"
    }
   ],
   "source": [
    "icons.prepare_cpu(memory='128GB',nworker=1)"
   ]
  },
  {
   "cell_type": "markdown",
   "id": "d2e1f3ba",
   "metadata": {},
   "source": [
    "**Interpolate data**"
   ]
  },
  {
   "cell_type": "code",
   "execution_count": 4,
   "id": "3bb9f378",
   "metadata": {},
   "outputs": [],
   "source": [
    "def add_coord_var(darray,gridset):\n",
    "    clon_x = xr.DataArray(gridset.clon.values,\n",
    "                      dims=gridset.clon.dims,attrs={k:v for k,v in gridset.clon.attrs.items()})\n",
    "    clat_y = xr.DataArray(gridset.clat.values,\n",
    "                      dims=gridset.clat.dims,attrs={k:v for k,v in gridset.clat.attrs.items()})\n",
    "    dset = darray.rename({'ncells':'cell'}).assign_coords(clon=clon_x,clat=clat_y).to_dataset()\n",
    "    dset['clon_vertices'] = gridset.clon_vertices \n",
    "    dset['clat_vertices'] = gridset.clat_vertices \n",
    "    return dset"
   ]
  },
  {
   "cell_type": "code",
   "execution_count": 5,
   "id": "967f6cec",
   "metadata": {},
   "outputs": [],
   "source": [
    "def cut_gridset(grid_file,x_first,y_first,x_end,y_end):\n",
    "    gridset = xr.open_dataset(grid_file,chunks='auto')\n",
    "    factor = 1/180*np.pi\n",
    "    return gridset.where(((gridset.clon>(x_first*factor)) & (gridset.clon<(x_end*factor))) & (\n",
    "        (gridset.clat>(y_first*factor)) & (gridset.clat<(y_end*factor))),drop=True) "
   ]
  },
  {
   "cell_type": "code",
   "execution_count": 6,
   "id": "b70cd16a",
   "metadata": {},
   "outputs": [],
   "source": [
    "def interp_data(darray, x_res, y_res,x_first,y_first,x_end,y_end,grid_file,weights=None):\n",
    "    gridset = cut_gridset(grid_file,x_first,y_first,x_end,y_end)\n",
    "    dset= add_coord_var(darray,gridset)\n",
    "    ###interpolation\n",
    "    remap_var = interp3d.remap_cut(dset, x_res, y_res,x_first,y_first,x_end,y_end,grid_file)\n",
    "    remap_jobs = dask.persist(remap_var)\n",
    "    progress(remap_jobs, notebook=False)\n",
    "    var_final = dask.compute(remap_var)\n",
    "    return var_final[0]"
   ]
  },
  {
   "cell_type": "code",
   "execution_count": null,
   "id": "bba3872d",
   "metadata": {},
   "outputs": [],
   "source": []
  },
  {
   "cell_type": "markdown",
   "id": "c987d2a6",
   "metadata": {},
   "source": [
    "**ngc2002**"
   ]
  },
  {
   "cell_type": "code",
   "execution_count": 7,
   "id": "4efc845f",
   "metadata": {},
   "outputs": [],
   "source": [
    "#Define a global pattern to find the files\n",
    "###cloud liquid water \n",
    "glob_pattern_3d1 = 'atm_2d_ml'\n",
    "## Define the paths of file 1 (dppp0016)\n",
    "data_path1 = Path('/work/mh0731/m300948/nextgems_cycle2_2/experiments/DEF100/work')\n",
    "## Collect all file names with pathlib's rglob and list compression  -- cloud liquid water \n",
    "files02 = sorted([str(f) for f in data_path1.glob(f'run*/*{glob_pattern_3d1}*.nc')])[:]"
   ]
  },
  {
   "cell_type": "code",
   "execution_count": 8,
   "id": "d142e0ff",
   "metadata": {},
   "outputs": [],
   "source": [
    "ctl_2d_list = []\n",
    "files = sorted([str(f) for f in data_path1.glob(f'run*/*atm_2d_ml*')],reverse=True)[:]\n",
    "\n",
    "for f in files:\n",
    "    if str(f)[-19:-3] not in [str(t)[-19:-3] for t in ctl_2d_list]:\n",
    "\n",
    "#if str(f)[-19:-3] for f in files not in str(t)[-19:-3] for t in ctl_2d_list:\n",
    "#        print(str(f)[-19:-3])\n",
    "        ctl_2d_list.append(str(f))\n",
    "\n",
    "filesnew = sorted(ctl_2d_list)"
   ]
  },
  {
   "cell_type": "code",
   "execution_count": 9,
   "id": "9c73d88a",
   "metadata": {},
   "outputs": [],
   "source": [
    "grid_file = '/pool/data/ICON/grids/public/mpim/0015/icon_grid_0015_R02B09_G.nc'"
   ]
  },
  {
   "cell_type": "markdown",
   "id": "3487e389",
   "metadata": {},
   "source": [
    "__netcdf4__"
   ]
  },
  {
   "cell_type": "code",
   "execution_count": 10,
   "id": "5a8f98ff",
   "metadata": {},
   "outputs": [
    {
     "name": "stdout",
     "output_type": "stream",
     "text": [
      "CPU times: user 3min 6s, sys: 1min 38s, total: 4min 45seted |  4min  4.1s\n",
      "Wall time: 5min 12s\n"
     ]
    }
   ],
   "source": [
    "%time vas01 = icons.spatial_mean(filesnew,'netcdf','vas',['2020-03-01','2020-03-31'],[-20,10],\\\n",
    "                                 [-85,-35],mask=1,better_time=False)"
   ]
  },
  {
   "cell_type": "code",
   "execution_count": 12,
   "id": "686e5499",
   "metadata": {},
   "outputs": [
    {
     "data": {
      "text/plain": [
       "[<matplotlib.lines.Line2D at 0x7fff70de15e0>]"
      ]
     },
     "execution_count": 12,
     "metadata": {},
     "output_type": "execute_result"
    },
    {
     "data": {
      "image/png": "[encoded data removed]",
      "text/plain": [
       "<Figure size 432x288 with 1 Axes>"
      ]
     },
     "metadata": {
      "needs_background": "light"
     },
     "output_type": "display_data"
    }
   ],
   "source": [
    "vas01.plot()"
   ]
  },
  {
   "cell_type": "code",
   "execution_count": null,
   "id": "f349cb05",
   "metadata": {},
   "outputs": [],
   "source": []
  }
 ],
 "metadata": {
  "kernelspec": {
   "display_name": "Python 3 (based on the module python3/2022.01)",
   "language": "python",
   "name": "python3_2022_01"
  },
  "language_info": {
   "codemirror_mode": {
    "name": "ipython",
    "version": 3
   },
   "file_extension": ".py",
   "mimetype": "text/x-python",
   "name": "python",
   "nbconvert_exporter": "python",
   "pygments_lexer": "ipython3",
   "version": "3.9.9"
  }
 },
 "nbformat": 4,
 "nbformat_minor": 5
}
