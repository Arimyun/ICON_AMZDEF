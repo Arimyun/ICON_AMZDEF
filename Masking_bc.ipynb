{
 "cells": [
  {
   "cell_type": "code",
   "execution_count": null,
   "metadata": {},
   "outputs": [],
   "source": [
    "from getpass import getuser # Libaray to copy things\n",
    "from pathlib import Path # Object oriented libary to deal with paths\n",
    "import numpy as np # Pythons standard array library\n",
    "import xarray as xr # Libary to work with labeled n-dimensional data\n",
    "import sys\n",
    "import os\n",
    "import warnings\n",
    "warnings.filterwarnings(action='ignore')\n",
    "import pandas as pd"
   ]
  },
  {
   "cell_type": "markdown",
   "metadata": {},
   "source": [
    "# 1st step: Load original data"
   ]
  },
  {
   "cell_type": "code",
   "execution_count": null,
   "metadata": {},
   "outputs": [],
   "source": [
    "#Define files in my work place\n",
    "glob_pattern_land = 'bc_land_0505'\n",
    "## Define the paths of file 1\n",
    "data_path = Path('/work/mh0731/m300948/AMDEF/REGRID_BC')\n",
    "file1 = sorted([str(f) for f in data_path.glob(f'*{glob_pattern_land}*.nc')])[:]"
   ]
  },
  {
   "cell_type": "code",
   "execution_count": null,
   "metadata": {},
   "outputs": [],
   "source": [
    "#Define files in my work place\n",
    "glob_pattern_land = 'bc_land_soil_regrid'\n",
    "## Define the paths of file 1\n",
    "data_path = Path('/work/mh0731/m300948/AMDEF/REGRID_BC')\n",
    "file1 = sorted([str(f) for f in data_path.glob(f'*{glob_pattern_land}*.nc')])[:]"
   ]
  },
  {
   "cell_type": "code",
   "execution_count": null,
   "metadata": {},
   "outputs": [],
   "source": [
    "#Define files in my work place\n",
    "glob_pattern_land = 'bc_land_frac_regrid'\n",
    "## Define the paths of file 1\n",
    "data_path = Path('/work/mh0731/m300948/AMDEF/REGRID_BC/amz_100def/')\n",
    "file1 = sorted([str(f) for f in data_path.glob(f'*{glob_pattern_land}*.nc')])[:]"
   ]
  },
  {
   "cell_type": "markdown",
   "metadata": {},
   "source": [
    "# 2nd Step: Load biome masking data"
   ]
  },
  {
   "cell_type": "code",
   "execution_count": null,
   "metadata": {},
   "outputs": [],
   "source": [
    "file_m1 = '/work/mh0731/m300948/AMDEF/amz_100def/biome_100def.nc'\n",
    "dset_m1 = xr.open_dataset(file_m1) # if it is ncfile\n",
    "var_names = ['lai_clim','veg_fract','roughness_length','albedo']\n",
    "dset_m1_subset = dset_m1[var_names].persist()\n",
    "dset_m1_subset"
   ]
  },
  {
   "cell_type": "code",
   "execution_count": null,
   "metadata": {},
   "outputs": [],
   "source": [
    "file_m1 = '/work/mh0731/m300948/AMDEF/masking_files/biome_root_100def.nc'\n",
    "dset_m1 = xr.open_dataset(file_m1) # if it is ncfile\n",
    "var_names = ['root_depth']\n",
    "dset_m1_subset = dset_m1[var_names].persist()\n",
    "dset_m1_subset"
   ]
  },
  {
   "cell_type": "code",
   "execution_count": null,
   "metadata": {},
   "outputs": [],
   "source": [
    "file_m1 = '/work/mh0731/m300948/AMDEF/masking_files/biome_vegf_100def.nc'\n",
    "dset_m1 = xr.open_dataset(file_m1) # if it is ncfile\n",
    "var_names = ['veg_ratio_max']\n",
    "dset_m1_subset = dset_m1[var_names].persist()\n",
    "dset_m1_subset"
   ]
  },
  {
   "cell_type": "markdown",
   "metadata": {},
   "source": [
    "# 3rd Step: Interpolation"
   ]
  },
  {
   "cell_type": "code",
   "execution_count": null,
   "metadata": {},
   "outputs": [],
   "source": [
    "####### Basin/Biome masking file from GIS\n",
    "#ABinterp_biome = dset_mask_biome.interp(latitude=dset_subset.lat, longitude=dset_subset.lon)\n",
    "#AB_biome=ABinterp_biome['AMAZON_BIOMES'].to_numpy()\n",
    "\n",
    "####### Biome masking file from original file - interpolate with LAI data\n",
    "ABinterp_lai = dset_mask_lai.interp(lat=dset_m1_subset.lat, lon=dset_m1_subset.lon)\n",
    "AB_lai=dset_mask_lai['lai_clim'].to_numpy()"
   ]
  },
  {
   "cell_type": "code",
   "execution_count": null,
   "metadata": {},
   "outputs": [],
   "source": []
  },
  {
   "cell_type": "code",
   "execution_count": null,
   "metadata": {},
   "outputs": [],
   "source": []
  },
  {
   "cell_type": "code",
   "execution_count": null,
   "metadata": {},
   "outputs": [],
   "source": []
  }
 ],
 "metadata": {
  "kernelspec": {
   "display_name": "My Kernel",
   "language": "python",
   "name": "my-kernel"
  },
  "orig_nbformat": 4
 },
 "nbformat": 4,
 "nbformat_minor": 2
}
